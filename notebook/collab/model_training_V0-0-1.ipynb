{
  "nbformat": 4,
  "nbformat_minor": 0,
  "metadata": {
    "colab": {
      "provenance": []
    },
    "kernelspec": {
      "name": "python3",
      "display_name": "Python 3"
    },
    "language_info": {
      "name": "python"
    }
  },
  "cells": [
    {
      "cell_type": "markdown",
      "source": [
        "# imports"
      ],
      "metadata": {
        "id": "8_My7M3RhXiD"
      }
    },
    {
      "cell_type": "markdown",
      "source": [],
      "metadata": {
        "id": "ZnbYhtLhzt7n"
      }
    },
    {
      "cell_type": "code",
      "source": [
        "#!pip install catboost"
      ],
      "metadata": {
        "id": "o7WIrq61zzdc"
      },
      "execution_count": 25,
      "outputs": []
    },
    {
      "cell_type": "code",
      "execution_count": 26,
      "metadata": {
        "id": "Id-kB-sChTpS"
      },
      "outputs": [],
      "source": [
        "# imports:\n",
        "import pandas as pd\n",
        "import numpy as np\n",
        "\n",
        "# import regex module\n",
        "import re\n",
        "\n",
        "# graphs:\n",
        "import seaborn as sns\n",
        "import matplotlib.pyplot as plt\n",
        "%matplotlib inline\n",
        "\n",
        "# display all the columns in dataframe\n",
        "pd.set_option('display.max_columns', None)\n",
        "\n",
        "# sklearn imports\n",
        "from sklearn.model_selection import train_test_split\n",
        "from sklearn.pipeline import Pipeline\n",
        "from sklearn.preprocessing import OneHotEncoder, OrdinalEncoder, MinMaxScaler\n",
        "from sklearn.compose import ColumnTransformer\n",
        "from sklearn.linear_model import LinearRegression, Ridge, Lasso\n",
        "from sklearn.tree import DecisionTreeRegressor\n",
        "from sklearn.neighbors import KNeighborsRegressor\n",
        "from sklearn.ensemble import RandomForestRegressor, AdaBoostRegressor\n",
        "from sklearn.svm import SVR\n",
        "from sklearn.model_selection import RandomizedSearchCV\n",
        "from catboost import CatBoostRegressor\n",
        "from xgboost import XGBRegressor\n",
        "from sklearn.metrics import mean_absolute_error, mean_squared_error, r2_score\n",
        "import warnings"
      ]
    },
    {
      "cell_type": "code",
      "source": [
        "df = pd.read_csv('https://raw.githubusercontent.com/aps0611/experimental/main/dataset/data-V4.csv')"
      ],
      "metadata": {
        "id": "n9dgNso6hcm3"
      },
      "execution_count": 27,
      "outputs": []
    },
    {
      "cell_type": "code",
      "source": [
        "df.head(5)"
      ],
      "metadata": {
        "colab": {
          "base_uri": "https://localhost:8080/",
          "height": 392
        },
        "id": "21D10Jthh0CM",
        "outputId": "505c1282-94f9-4ca6-b026-1b490df84d07"
      },
      "execution_count": 28,
      "outputs": [
        {
          "output_type": "execute_result",
          "data": {
            "text/plain": [
              "   Unnamed: 0 Geo Level    State  State ANSI Ag District  Ag District Code  \\\n",
              "0           0    COUNTY  ALABAMA           1  BLACK BELT                40   \n",
              "1           1    COUNTY  ALABAMA           1  BLACK BELT                40   \n",
              "2           2    COUNTY  ALABAMA           1  BLACK BELT                40   \n",
              "3           3    COUNTY  ALABAMA           1  BLACK BELT                40   \n",
              "4           4    COUNTY  ALABAMA           1  BLACK BELT                40   \n",
              "\n",
              "    County  County ANSI  cotton_area  Corn_area  SORGHUM_ACRES  \\\n",
              "0  AUTAUGA            1         9261        645              0   \n",
              "1   DALLAS           47        14133      13876              0   \n",
              "2   ELMORE           51        13795       2487              0   \n",
              "3  LOWNDES           85         4046       1630              0   \n",
              "4    MACON           87        12376          0              0   \n",
              "\n",
              "   precipitation_cm   Latitude  Longitude          CO2           N2O  \n",
              "0             148.0  32.516526 -86.631940  1639.220033   9923.611451  \n",
              "1             148.0  32.311797 -87.104664  4270.154224  44321.791540  \n",
              "2             148.0  32.580123 -86.125195  2651.127824  22593.750300  \n",
              "3             148.0  32.108807 -86.640254   901.109504   2184.483787  \n",
              "4             148.0  32.366606 -85.666031  2072.333953  17632.699410  "
            ],
            "text/html": [
              "\n",
              "  <div id=\"df-2214c0a2-3b9c-4b71-b051-bdeb56f7d2f9\">\n",
              "    <div class=\"colab-df-container\">\n",
              "      <div>\n",
              "<style scoped>\n",
              "    .dataframe tbody tr th:only-of-type {\n",
              "        vertical-align: middle;\n",
              "    }\n",
              "\n",
              "    .dataframe tbody tr th {\n",
              "        vertical-align: top;\n",
              "    }\n",
              "\n",
              "    .dataframe thead th {\n",
              "        text-align: right;\n",
              "    }\n",
              "</style>\n",
              "<table border=\"1\" class=\"dataframe\">\n",
              "  <thead>\n",
              "    <tr style=\"text-align: right;\">\n",
              "      <th></th>\n",
              "      <th>Unnamed: 0</th>\n",
              "      <th>Geo Level</th>\n",
              "      <th>State</th>\n",
              "      <th>State ANSI</th>\n",
              "      <th>Ag District</th>\n",
              "      <th>Ag District Code</th>\n",
              "      <th>County</th>\n",
              "      <th>County ANSI</th>\n",
              "      <th>cotton_area</th>\n",
              "      <th>Corn_area</th>\n",
              "      <th>SORGHUM_ACRES</th>\n",
              "      <th>precipitation_cm</th>\n",
              "      <th>Latitude</th>\n",
              "      <th>Longitude</th>\n",
              "      <th>CO2</th>\n",
              "      <th>N2O</th>\n",
              "    </tr>\n",
              "  </thead>\n",
              "  <tbody>\n",
              "    <tr>\n",
              "      <th>0</th>\n",
              "      <td>0</td>\n",
              "      <td>COUNTY</td>\n",
              "      <td>ALABAMA</td>\n",
              "      <td>1</td>\n",
              "      <td>BLACK BELT</td>\n",
              "      <td>40</td>\n",
              "      <td>AUTAUGA</td>\n",
              "      <td>1</td>\n",
              "      <td>9261</td>\n",
              "      <td>645</td>\n",
              "      <td>0</td>\n",
              "      <td>148.0</td>\n",
              "      <td>32.516526</td>\n",
              "      <td>-86.631940</td>\n",
              "      <td>1639.220033</td>\n",
              "      <td>9923.611451</td>\n",
              "    </tr>\n",
              "    <tr>\n",
              "      <th>1</th>\n",
              "      <td>1</td>\n",
              "      <td>COUNTY</td>\n",
              "      <td>ALABAMA</td>\n",
              "      <td>1</td>\n",
              "      <td>BLACK BELT</td>\n",
              "      <td>40</td>\n",
              "      <td>DALLAS</td>\n",
              "      <td>47</td>\n",
              "      <td>14133</td>\n",
              "      <td>13876</td>\n",
              "      <td>0</td>\n",
              "      <td>148.0</td>\n",
              "      <td>32.311797</td>\n",
              "      <td>-87.104664</td>\n",
              "      <td>4270.154224</td>\n",
              "      <td>44321.791540</td>\n",
              "    </tr>\n",
              "    <tr>\n",
              "      <th>2</th>\n",
              "      <td>2</td>\n",
              "      <td>COUNTY</td>\n",
              "      <td>ALABAMA</td>\n",
              "      <td>1</td>\n",
              "      <td>BLACK BELT</td>\n",
              "      <td>40</td>\n",
              "      <td>ELMORE</td>\n",
              "      <td>51</td>\n",
              "      <td>13795</td>\n",
              "      <td>2487</td>\n",
              "      <td>0</td>\n",
              "      <td>148.0</td>\n",
              "      <td>32.580123</td>\n",
              "      <td>-86.125195</td>\n",
              "      <td>2651.127824</td>\n",
              "      <td>22593.750300</td>\n",
              "    </tr>\n",
              "    <tr>\n",
              "      <th>3</th>\n",
              "      <td>3</td>\n",
              "      <td>COUNTY</td>\n",
              "      <td>ALABAMA</td>\n",
              "      <td>1</td>\n",
              "      <td>BLACK BELT</td>\n",
              "      <td>40</td>\n",
              "      <td>LOWNDES</td>\n",
              "      <td>85</td>\n",
              "      <td>4046</td>\n",
              "      <td>1630</td>\n",
              "      <td>0</td>\n",
              "      <td>148.0</td>\n",
              "      <td>32.108807</td>\n",
              "      <td>-86.640254</td>\n",
              "      <td>901.109504</td>\n",
              "      <td>2184.483787</td>\n",
              "    </tr>\n",
              "    <tr>\n",
              "      <th>4</th>\n",
              "      <td>4</td>\n",
              "      <td>COUNTY</td>\n",
              "      <td>ALABAMA</td>\n",
              "      <td>1</td>\n",
              "      <td>BLACK BELT</td>\n",
              "      <td>40</td>\n",
              "      <td>MACON</td>\n",
              "      <td>87</td>\n",
              "      <td>12376</td>\n",
              "      <td>0</td>\n",
              "      <td>0</td>\n",
              "      <td>148.0</td>\n",
              "      <td>32.366606</td>\n",
              "      <td>-85.666031</td>\n",
              "      <td>2072.333953</td>\n",
              "      <td>17632.699410</td>\n",
              "    </tr>\n",
              "  </tbody>\n",
              "</table>\n",
              "</div>\n",
              "      <button class=\"colab-df-convert\" onclick=\"convertToInteractive('df-2214c0a2-3b9c-4b71-b051-bdeb56f7d2f9')\"\n",
              "              title=\"Convert this dataframe to an interactive table.\"\n",
              "              style=\"display:none;\">\n",
              "        \n",
              "  <svg xmlns=\"http://www.w3.org/2000/svg\" height=\"24px\"viewBox=\"0 0 24 24\"\n",
              "       width=\"24px\">\n",
              "    <path d=\"M0 0h24v24H0V0z\" fill=\"none\"/>\n",
              "    <path d=\"M18.56 5.44l.94 2.06.94-2.06 2.06-.94-2.06-.94-.94-2.06-.94 2.06-2.06.94zm-11 1L8.5 8.5l.94-2.06 2.06-.94-2.06-.94L8.5 2.5l-.94 2.06-2.06.94zm10 10l.94 2.06.94-2.06 2.06-.94-2.06-.94-.94-2.06-.94 2.06-2.06.94z\"/><path d=\"M17.41 7.96l-1.37-1.37c-.4-.4-.92-.59-1.43-.59-.52 0-1.04.2-1.43.59L10.3 9.45l-7.72 7.72c-.78.78-.78 2.05 0 2.83L4 21.41c.39.39.9.59 1.41.59.51 0 1.02-.2 1.41-.59l7.78-7.78 2.81-2.81c.8-.78.8-2.07 0-2.86zM5.41 20L4 18.59l7.72-7.72 1.47 1.35L5.41 20z\"/>\n",
              "  </svg>\n",
              "      </button>\n",
              "      \n",
              "  <style>\n",
              "    .colab-df-container {\n",
              "      display:flex;\n",
              "      flex-wrap:wrap;\n",
              "      gap: 12px;\n",
              "    }\n",
              "\n",
              "    .colab-df-convert {\n",
              "      background-color: #E8F0FE;\n",
              "      border: none;\n",
              "      border-radius: 50%;\n",
              "      cursor: pointer;\n",
              "      display: none;\n",
              "      fill: #1967D2;\n",
              "      height: 32px;\n",
              "      padding: 0 0 0 0;\n",
              "      width: 32px;\n",
              "    }\n",
              "\n",
              "    .colab-df-convert:hover {\n",
              "      background-color: #E2EBFA;\n",
              "      box-shadow: 0px 1px 2px rgba(60, 64, 67, 0.3), 0px 1px 3px 1px rgba(60, 64, 67, 0.15);\n",
              "      fill: #174EA6;\n",
              "    }\n",
              "\n",
              "    [theme=dark] .colab-df-convert {\n",
              "      background-color: #3B4455;\n",
              "      fill: #D2E3FC;\n",
              "    }\n",
              "\n",
              "    [theme=dark] .colab-df-convert:hover {\n",
              "      background-color: #434B5C;\n",
              "      box-shadow: 0px 1px 3px 1px rgba(0, 0, 0, 0.15);\n",
              "      filter: drop-shadow(0px 1px 2px rgba(0, 0, 0, 0.3));\n",
              "      fill: #FFFFFF;\n",
              "    }\n",
              "  </style>\n",
              "\n",
              "      <script>\n",
              "        const buttonEl =\n",
              "          document.querySelector('#df-2214c0a2-3b9c-4b71-b051-bdeb56f7d2f9 button.colab-df-convert');\n",
              "        buttonEl.style.display =\n",
              "          google.colab.kernel.accessAllowed ? 'block' : 'none';\n",
              "\n",
              "        async function convertToInteractive(key) {\n",
              "          const element = document.querySelector('#df-2214c0a2-3b9c-4b71-b051-bdeb56f7d2f9');\n",
              "          const dataTable =\n",
              "            await google.colab.kernel.invokeFunction('convertToInteractive',\n",
              "                                                     [key], {});\n",
              "          if (!dataTable) return;\n",
              "\n",
              "          const docLinkHtml = 'Like what you see? Visit the ' +\n",
              "            '<a target=\"_blank\" href=https://colab.research.google.com/notebooks/data_table.ipynb>data table notebook</a>'\n",
              "            + ' to learn more about interactive tables.';\n",
              "          element.innerHTML = '';\n",
              "          dataTable['output_type'] = 'display_data';\n",
              "          await google.colab.output.renderOutput(dataTable, element);\n",
              "          const docLink = document.createElement('div');\n",
              "          docLink.innerHTML = docLinkHtml;\n",
              "          element.appendChild(docLink);\n",
              "        }\n",
              "      </script>\n",
              "    </div>\n",
              "  </div>\n",
              "  "
            ]
          },
          "metadata": {},
          "execution_count": 28
        }
      ]
    },
    {
      "cell_type": "code",
      "source": [
        "df.shape"
      ],
      "metadata": {
        "colab": {
          "base_uri": "https://localhost:8080/"
        },
        "id": "7w3tlBT8Gr7W",
        "outputId": "0863e94f-7903-46e9-94c2-2eec2d2806ca"
      },
      "execution_count": 29,
      "outputs": [
        {
          "output_type": "execute_result",
          "data": {
            "text/plain": [
              "(2705, 16)"
            ]
          },
          "metadata": {},
          "execution_count": 29
        }
      ]
    },
    {
      "cell_type": "code",
      "source": [
        "### check the columns\n",
        "\n",
        "df.columns"
      ],
      "metadata": {
        "colab": {
          "base_uri": "https://localhost:8080/"
        },
        "id": "R7YXcJBIh1GT",
        "outputId": "3b453869-65cb-4540-f1f8-be88a66cb175"
      },
      "execution_count": 30,
      "outputs": [
        {
          "output_type": "execute_result",
          "data": {
            "text/plain": [
              "Index(['Unnamed: 0', 'Geo Level', 'State', 'State ANSI', 'Ag District',\n",
              "       'Ag District Code', 'County', 'County ANSI', 'cotton_area', 'Corn_area',\n",
              "       'SORGHUM_ACRES', 'precipitation_cm', 'Latitude', 'Longitude', 'CO2',\n",
              "       'N2O'],\n",
              "      dtype='object')"
            ]
          },
          "metadata": {},
          "execution_count": 30
        }
      ]
    },
    {
      "cell_type": "code",
      "source": [
        "## create a new df1 with all the needed columns\n",
        "\n",
        "df1 = df[['Latitude', 'Longitude', 'cotton_area', 'Corn_area',\n",
        "       'SORGHUM_ACRES', 'precipitation_cm', 'CO2',\n",
        "       'N2O']]"
      ],
      "metadata": {
        "id": "bAphb-KViE3I"
      },
      "execution_count": 31,
      "outputs": []
    },
    {
      "cell_type": "code",
      "source": [
        "df1.head(5)"
      ],
      "metadata": {
        "colab": {
          "base_uri": "https://localhost:8080/",
          "height": 206
        },
        "id": "ozy6p3q8if-j",
        "outputId": "74a5f8e7-da7a-4a45-8b7e-7f319665f312"
      },
      "execution_count": 32,
      "outputs": [
        {
          "output_type": "execute_result",
          "data": {
            "text/plain": [
              "    Latitude  Longitude  cotton_area  Corn_area  SORGHUM_ACRES  \\\n",
              "0  32.516526 -86.631940         9261        645              0   \n",
              "1  32.311797 -87.104664        14133      13876              0   \n",
              "2  32.580123 -86.125195        13795       2487              0   \n",
              "3  32.108807 -86.640254         4046       1630              0   \n",
              "4  32.366606 -85.666031        12376          0              0   \n",
              "\n",
              "   precipitation_cm          CO2           N2O  \n",
              "0             148.0  1639.220033   9923.611451  \n",
              "1             148.0  4270.154224  44321.791540  \n",
              "2             148.0  2651.127824  22593.750300  \n",
              "3             148.0   901.109504   2184.483787  \n",
              "4             148.0  2072.333953  17632.699410  "
            ],
            "text/html": [
              "\n",
              "  <div id=\"df-c48ffbec-b097-42bc-b456-8912fcde17af\">\n",
              "    <div class=\"colab-df-container\">\n",
              "      <div>\n",
              "<style scoped>\n",
              "    .dataframe tbody tr th:only-of-type {\n",
              "        vertical-align: middle;\n",
              "    }\n",
              "\n",
              "    .dataframe tbody tr th {\n",
              "        vertical-align: top;\n",
              "    }\n",
              "\n",
              "    .dataframe thead th {\n",
              "        text-align: right;\n",
              "    }\n",
              "</style>\n",
              "<table border=\"1\" class=\"dataframe\">\n",
              "  <thead>\n",
              "    <tr style=\"text-align: right;\">\n",
              "      <th></th>\n",
              "      <th>Latitude</th>\n",
              "      <th>Longitude</th>\n",
              "      <th>cotton_area</th>\n",
              "      <th>Corn_area</th>\n",
              "      <th>SORGHUM_ACRES</th>\n",
              "      <th>precipitation_cm</th>\n",
              "      <th>CO2</th>\n",
              "      <th>N2O</th>\n",
              "    </tr>\n",
              "  </thead>\n",
              "  <tbody>\n",
              "    <tr>\n",
              "      <th>0</th>\n",
              "      <td>32.516526</td>\n",
              "      <td>-86.631940</td>\n",
              "      <td>9261</td>\n",
              "      <td>645</td>\n",
              "      <td>0</td>\n",
              "      <td>148.0</td>\n",
              "      <td>1639.220033</td>\n",
              "      <td>9923.611451</td>\n",
              "    </tr>\n",
              "    <tr>\n",
              "      <th>1</th>\n",
              "      <td>32.311797</td>\n",
              "      <td>-87.104664</td>\n",
              "      <td>14133</td>\n",
              "      <td>13876</td>\n",
              "      <td>0</td>\n",
              "      <td>148.0</td>\n",
              "      <td>4270.154224</td>\n",
              "      <td>44321.791540</td>\n",
              "    </tr>\n",
              "    <tr>\n",
              "      <th>2</th>\n",
              "      <td>32.580123</td>\n",
              "      <td>-86.125195</td>\n",
              "      <td>13795</td>\n",
              "      <td>2487</td>\n",
              "      <td>0</td>\n",
              "      <td>148.0</td>\n",
              "      <td>2651.127824</td>\n",
              "      <td>22593.750300</td>\n",
              "    </tr>\n",
              "    <tr>\n",
              "      <th>3</th>\n",
              "      <td>32.108807</td>\n",
              "      <td>-86.640254</td>\n",
              "      <td>4046</td>\n",
              "      <td>1630</td>\n",
              "      <td>0</td>\n",
              "      <td>148.0</td>\n",
              "      <td>901.109504</td>\n",
              "      <td>2184.483787</td>\n",
              "    </tr>\n",
              "    <tr>\n",
              "      <th>4</th>\n",
              "      <td>32.366606</td>\n",
              "      <td>-85.666031</td>\n",
              "      <td>12376</td>\n",
              "      <td>0</td>\n",
              "      <td>0</td>\n",
              "      <td>148.0</td>\n",
              "      <td>2072.333953</td>\n",
              "      <td>17632.699410</td>\n",
              "    </tr>\n",
              "  </tbody>\n",
              "</table>\n",
              "</div>\n",
              "      <button class=\"colab-df-convert\" onclick=\"convertToInteractive('df-c48ffbec-b097-42bc-b456-8912fcde17af')\"\n",
              "              title=\"Convert this dataframe to an interactive table.\"\n",
              "              style=\"display:none;\">\n",
              "        \n",
              "  <svg xmlns=\"http://www.w3.org/2000/svg\" height=\"24px\"viewBox=\"0 0 24 24\"\n",
              "       width=\"24px\">\n",
              "    <path d=\"M0 0h24v24H0V0z\" fill=\"none\"/>\n",
              "    <path d=\"M18.56 5.44l.94 2.06.94-2.06 2.06-.94-2.06-.94-.94-2.06-.94 2.06-2.06.94zm-11 1L8.5 8.5l.94-2.06 2.06-.94-2.06-.94L8.5 2.5l-.94 2.06-2.06.94zm10 10l.94 2.06.94-2.06 2.06-.94-2.06-.94-.94-2.06-.94 2.06-2.06.94z\"/><path d=\"M17.41 7.96l-1.37-1.37c-.4-.4-.92-.59-1.43-.59-.52 0-1.04.2-1.43.59L10.3 9.45l-7.72 7.72c-.78.78-.78 2.05 0 2.83L4 21.41c.39.39.9.59 1.41.59.51 0 1.02-.2 1.41-.59l7.78-7.78 2.81-2.81c.8-.78.8-2.07 0-2.86zM5.41 20L4 18.59l7.72-7.72 1.47 1.35L5.41 20z\"/>\n",
              "  </svg>\n",
              "      </button>\n",
              "      \n",
              "  <style>\n",
              "    .colab-df-container {\n",
              "      display:flex;\n",
              "      flex-wrap:wrap;\n",
              "      gap: 12px;\n",
              "    }\n",
              "\n",
              "    .colab-df-convert {\n",
              "      background-color: #E8F0FE;\n",
              "      border: none;\n",
              "      border-radius: 50%;\n",
              "      cursor: pointer;\n",
              "      display: none;\n",
              "      fill: #1967D2;\n",
              "      height: 32px;\n",
              "      padding: 0 0 0 0;\n",
              "      width: 32px;\n",
              "    }\n",
              "\n",
              "    .colab-df-convert:hover {\n",
              "      background-color: #E2EBFA;\n",
              "      box-shadow: 0px 1px 2px rgba(60, 64, 67, 0.3), 0px 1px 3px 1px rgba(60, 64, 67, 0.15);\n",
              "      fill: #174EA6;\n",
              "    }\n",
              "\n",
              "    [theme=dark] .colab-df-convert {\n",
              "      background-color: #3B4455;\n",
              "      fill: #D2E3FC;\n",
              "    }\n",
              "\n",
              "    [theme=dark] .colab-df-convert:hover {\n",
              "      background-color: #434B5C;\n",
              "      box-shadow: 0px 1px 3px 1px rgba(0, 0, 0, 0.15);\n",
              "      filter: drop-shadow(0px 1px 2px rgba(0, 0, 0, 0.3));\n",
              "      fill: #FFFFFF;\n",
              "    }\n",
              "  </style>\n",
              "\n",
              "      <script>\n",
              "        const buttonEl =\n",
              "          document.querySelector('#df-c48ffbec-b097-42bc-b456-8912fcde17af button.colab-df-convert');\n",
              "        buttonEl.style.display =\n",
              "          google.colab.kernel.accessAllowed ? 'block' : 'none';\n",
              "\n",
              "        async function convertToInteractive(key) {\n",
              "          const element = document.querySelector('#df-c48ffbec-b097-42bc-b456-8912fcde17af');\n",
              "          const dataTable =\n",
              "            await google.colab.kernel.invokeFunction('convertToInteractive',\n",
              "                                                     [key], {});\n",
              "          if (!dataTable) return;\n",
              "\n",
              "          const docLinkHtml = 'Like what you see? Visit the ' +\n",
              "            '<a target=\"_blank\" href=https://colab.research.google.com/notebooks/data_table.ipynb>data table notebook</a>'\n",
              "            + ' to learn more about interactive tables.';\n",
              "          element.innerHTML = '';\n",
              "          dataTable['output_type'] = 'display_data';\n",
              "          await google.colab.output.renderOutput(dataTable, element);\n",
              "          const docLink = document.createElement('div');\n",
              "          docLink.innerHTML = docLinkHtml;\n",
              "          element.appendChild(docLink);\n",
              "        }\n",
              "      </script>\n",
              "    </div>\n",
              "  </div>\n",
              "  "
            ]
          },
          "metadata": {},
          "execution_count": 32
        }
      ]
    },
    {
      "cell_type": "code",
      "source": [
        "df1.describe()"
      ],
      "metadata": {
        "colab": {
          "base_uri": "https://localhost:8080/",
          "height": 300
        },
        "id": "QH_ZCxSKihcX",
        "outputId": "71827ca1-3bd2-40f2-ba26-ff6bdb99c379"
      },
      "execution_count": 33,
      "outputs": [
        {
          "output_type": "execute_result",
          "data": {
            "text/plain": [
              "          Latitude    Longitude    cotton_area      Corn_area  SORGHUM_ACRES  \\\n",
              "count  2705.000000  2705.000000    2705.000000    2705.000000    2705.000000   \n",
              "mean     38.331819   -90.761495    4162.070980   31268.403327    1839.810351   \n",
              "std       4.765679    10.532150   18279.682707   50129.493374    8823.697408   \n",
              "min       2.169424  -159.558768       0.000000       0.000000       0.000000   \n",
              "25%      34.862890   -97.130594       0.000000     486.000000       0.000000   \n",
              "50%      38.461697   -89.420190       0.000000    6052.000000       0.000000   \n",
              "75%      41.676581   -83.367686       0.000000   41952.000000       0.000000   \n",
              "max      48.831939   -68.299475  297817.000000  319973.000000  142457.000000   \n",
              "\n",
              "       precipitation_cm           CO2           N2O  \n",
              "count       2705.000000   2705.000000  2.705000e+03  \n",
              "mean          98.020407   4924.867588  4.279120e+05  \n",
              "std           31.179485   7082.753396  1.105998e+06  \n",
              "min           24.100000      0.000000  0.000000e+00  \n",
              "25%           73.400000    113.454106  7.048132e+01  \n",
              "50%           99.600000   1557.078729  1.115684e+04  \n",
              "75%          124.200000   7343.262366  2.653049e+05  \n",
              "max          161.800000  50712.721790  1.133240e+07  "
            ],
            "text/html": [
              "\n",
              "  <div id=\"df-034184f9-7252-464a-a94a-a1113f274068\">\n",
              "    <div class=\"colab-df-container\">\n",
              "      <div>\n",
              "<style scoped>\n",
              "    .dataframe tbody tr th:only-of-type {\n",
              "        vertical-align: middle;\n",
              "    }\n",
              "\n",
              "    .dataframe tbody tr th {\n",
              "        vertical-align: top;\n",
              "    }\n",
              "\n",
              "    .dataframe thead th {\n",
              "        text-align: right;\n",
              "    }\n",
              "</style>\n",
              "<table border=\"1\" class=\"dataframe\">\n",
              "  <thead>\n",
              "    <tr style=\"text-align: right;\">\n",
              "      <th></th>\n",
              "      <th>Latitude</th>\n",
              "      <th>Longitude</th>\n",
              "      <th>cotton_area</th>\n",
              "      <th>Corn_area</th>\n",
              "      <th>SORGHUM_ACRES</th>\n",
              "      <th>precipitation_cm</th>\n",
              "      <th>CO2</th>\n",
              "      <th>N2O</th>\n",
              "    </tr>\n",
              "  </thead>\n",
              "  <tbody>\n",
              "    <tr>\n",
              "      <th>count</th>\n",
              "      <td>2705.000000</td>\n",
              "      <td>2705.000000</td>\n",
              "      <td>2705.000000</td>\n",
              "      <td>2705.000000</td>\n",
              "      <td>2705.000000</td>\n",
              "      <td>2705.000000</td>\n",
              "      <td>2705.000000</td>\n",
              "      <td>2.705000e+03</td>\n",
              "    </tr>\n",
              "    <tr>\n",
              "      <th>mean</th>\n",
              "      <td>38.331819</td>\n",
              "      <td>-90.761495</td>\n",
              "      <td>4162.070980</td>\n",
              "      <td>31268.403327</td>\n",
              "      <td>1839.810351</td>\n",
              "      <td>98.020407</td>\n",
              "      <td>4924.867588</td>\n",
              "      <td>4.279120e+05</td>\n",
              "    </tr>\n",
              "    <tr>\n",
              "      <th>std</th>\n",
              "      <td>4.765679</td>\n",
              "      <td>10.532150</td>\n",
              "      <td>18279.682707</td>\n",
              "      <td>50129.493374</td>\n",
              "      <td>8823.697408</td>\n",
              "      <td>31.179485</td>\n",
              "      <td>7082.753396</td>\n",
              "      <td>1.105998e+06</td>\n",
              "    </tr>\n",
              "    <tr>\n",
              "      <th>min</th>\n",
              "      <td>2.169424</td>\n",
              "      <td>-159.558768</td>\n",
              "      <td>0.000000</td>\n",
              "      <td>0.000000</td>\n",
              "      <td>0.000000</td>\n",
              "      <td>24.100000</td>\n",
              "      <td>0.000000</td>\n",
              "      <td>0.000000e+00</td>\n",
              "    </tr>\n",
              "    <tr>\n",
              "      <th>25%</th>\n",
              "      <td>34.862890</td>\n",
              "      <td>-97.130594</td>\n",
              "      <td>0.000000</td>\n",
              "      <td>486.000000</td>\n",
              "      <td>0.000000</td>\n",
              "      <td>73.400000</td>\n",
              "      <td>113.454106</td>\n",
              "      <td>7.048132e+01</td>\n",
              "    </tr>\n",
              "    <tr>\n",
              "      <th>50%</th>\n",
              "      <td>38.461697</td>\n",
              "      <td>-89.420190</td>\n",
              "      <td>0.000000</td>\n",
              "      <td>6052.000000</td>\n",
              "      <td>0.000000</td>\n",
              "      <td>99.600000</td>\n",
              "      <td>1557.078729</td>\n",
              "      <td>1.115684e+04</td>\n",
              "    </tr>\n",
              "    <tr>\n",
              "      <th>75%</th>\n",
              "      <td>41.676581</td>\n",
              "      <td>-83.367686</td>\n",
              "      <td>0.000000</td>\n",
              "      <td>41952.000000</td>\n",
              "      <td>0.000000</td>\n",
              "      <td>124.200000</td>\n",
              "      <td>7343.262366</td>\n",
              "      <td>2.653049e+05</td>\n",
              "    </tr>\n",
              "    <tr>\n",
              "      <th>max</th>\n",
              "      <td>48.831939</td>\n",
              "      <td>-68.299475</td>\n",
              "      <td>297817.000000</td>\n",
              "      <td>319973.000000</td>\n",
              "      <td>142457.000000</td>\n",
              "      <td>161.800000</td>\n",
              "      <td>50712.721790</td>\n",
              "      <td>1.133240e+07</td>\n",
              "    </tr>\n",
              "  </tbody>\n",
              "</table>\n",
              "</div>\n",
              "      <button class=\"colab-df-convert\" onclick=\"convertToInteractive('df-034184f9-7252-464a-a94a-a1113f274068')\"\n",
              "              title=\"Convert this dataframe to an interactive table.\"\n",
              "              style=\"display:none;\">\n",
              "        \n",
              "  <svg xmlns=\"http://www.w3.org/2000/svg\" height=\"24px\"viewBox=\"0 0 24 24\"\n",
              "       width=\"24px\">\n",
              "    <path d=\"M0 0h24v24H0V0z\" fill=\"none\"/>\n",
              "    <path d=\"M18.56 5.44l.94 2.06.94-2.06 2.06-.94-2.06-.94-.94-2.06-.94 2.06-2.06.94zm-11 1L8.5 8.5l.94-2.06 2.06-.94-2.06-.94L8.5 2.5l-.94 2.06-2.06.94zm10 10l.94 2.06.94-2.06 2.06-.94-2.06-.94-.94-2.06-.94 2.06-2.06.94z\"/><path d=\"M17.41 7.96l-1.37-1.37c-.4-.4-.92-.59-1.43-.59-.52 0-1.04.2-1.43.59L10.3 9.45l-7.72 7.72c-.78.78-.78 2.05 0 2.83L4 21.41c.39.39.9.59 1.41.59.51 0 1.02-.2 1.41-.59l7.78-7.78 2.81-2.81c.8-.78.8-2.07 0-2.86zM5.41 20L4 18.59l7.72-7.72 1.47 1.35L5.41 20z\"/>\n",
              "  </svg>\n",
              "      </button>\n",
              "      \n",
              "  <style>\n",
              "    .colab-df-container {\n",
              "      display:flex;\n",
              "      flex-wrap:wrap;\n",
              "      gap: 12px;\n",
              "    }\n",
              "\n",
              "    .colab-df-convert {\n",
              "      background-color: #E8F0FE;\n",
              "      border: none;\n",
              "      border-radius: 50%;\n",
              "      cursor: pointer;\n",
              "      display: none;\n",
              "      fill: #1967D2;\n",
              "      height: 32px;\n",
              "      padding: 0 0 0 0;\n",
              "      width: 32px;\n",
              "    }\n",
              "\n",
              "    .colab-df-convert:hover {\n",
              "      background-color: #E2EBFA;\n",
              "      box-shadow: 0px 1px 2px rgba(60, 64, 67, 0.3), 0px 1px 3px 1px rgba(60, 64, 67, 0.15);\n",
              "      fill: #174EA6;\n",
              "    }\n",
              "\n",
              "    [theme=dark] .colab-df-convert {\n",
              "      background-color: #3B4455;\n",
              "      fill: #D2E3FC;\n",
              "    }\n",
              "\n",
              "    [theme=dark] .colab-df-convert:hover {\n",
              "      background-color: #434B5C;\n",
              "      box-shadow: 0px 1px 3px 1px rgba(0, 0, 0, 0.15);\n",
              "      filter: drop-shadow(0px 1px 2px rgba(0, 0, 0, 0.3));\n",
              "      fill: #FFFFFF;\n",
              "    }\n",
              "  </style>\n",
              "\n",
              "      <script>\n",
              "        const buttonEl =\n",
              "          document.querySelector('#df-034184f9-7252-464a-a94a-a1113f274068 button.colab-df-convert');\n",
              "        buttonEl.style.display =\n",
              "          google.colab.kernel.accessAllowed ? 'block' : 'none';\n",
              "\n",
              "        async function convertToInteractive(key) {\n",
              "          const element = document.querySelector('#df-034184f9-7252-464a-a94a-a1113f274068');\n",
              "          const dataTable =\n",
              "            await google.colab.kernel.invokeFunction('convertToInteractive',\n",
              "                                                     [key], {});\n",
              "          if (!dataTable) return;\n",
              "\n",
              "          const docLinkHtml = 'Like what you see? Visit the ' +\n",
              "            '<a target=\"_blank\" href=https://colab.research.google.com/notebooks/data_table.ipynb>data table notebook</a>'\n",
              "            + ' to learn more about interactive tables.';\n",
              "          element.innerHTML = '';\n",
              "          dataTable['output_type'] = 'display_data';\n",
              "          await google.colab.output.renderOutput(dataTable, element);\n",
              "          const docLink = document.createElement('div');\n",
              "          docLink.innerHTML = docLinkHtml;\n",
              "          element.appendChild(docLink);\n",
              "        }\n",
              "      </script>\n",
              "    </div>\n",
              "  </div>\n",
              "  "
            ]
          },
          "metadata": {},
          "execution_count": 33
        }
      ]
    },
    {
      "cell_type": "markdown",
      "source": [],
      "metadata": {
        "id": "bQfFgF8_Gbq3"
      }
    },
    {
      "cell_type": "code",
      "source": [
        "df1.info()"
      ],
      "metadata": {
        "colab": {
          "base_uri": "https://localhost:8080/"
        },
        "id": "Fzc33NOSizLI",
        "outputId": "693e7041-4d28-48bf-a98a-e2fe7d48405a"
      },
      "execution_count": 34,
      "outputs": [
        {
          "output_type": "stream",
          "name": "stdout",
          "text": [
            "<class 'pandas.core.frame.DataFrame'>\n",
            "RangeIndex: 2705 entries, 0 to 2704\n",
            "Data columns (total 8 columns):\n",
            " #   Column            Non-Null Count  Dtype  \n",
            "---  ------            --------------  -----  \n",
            " 0   Latitude          2705 non-null   float64\n",
            " 1   Longitude         2705 non-null   float64\n",
            " 2   cotton_area       2705 non-null   int64  \n",
            " 3   Corn_area         2705 non-null   int64  \n",
            " 4   SORGHUM_ACRES     2705 non-null   int64  \n",
            " 5   precipitation_cm  2705 non-null   float64\n",
            " 6   CO2               2705 non-null   float64\n",
            " 7   N2O               2705 non-null   float64\n",
            "dtypes: float64(5), int64(3)\n",
            "memory usage: 169.2 KB\n"
          ]
        }
      ]
    },
    {
      "cell_type": "code",
      "source": [
        "#df1 = df1.drop(df1[df1['CO2'] == 0].index)"
      ],
      "metadata": {
        "id": "i4tB82y9qTGo"
      },
      "execution_count": 35,
      "outputs": []
    },
    {
      "cell_type": "code",
      "source": [
        "df1.shape"
      ],
      "metadata": {
        "colab": {
          "base_uri": "https://localhost:8080/"
        },
        "id": "AtoUm1wqGolL",
        "outputId": "b3c492cf-1289-4d92-c7ad-c0d3e16612f5"
      },
      "execution_count": 36,
      "outputs": [
        {
          "output_type": "execute_result",
          "data": {
            "text/plain": [
              "(2705, 8)"
            ]
          },
          "metadata": {},
          "execution_count": 36
        }
      ]
    },
    {
      "cell_type": "code",
      "source": [
        "# Select the input features (X) and target variables (y)\n",
        "X = df1[['Latitude', 'Longitude','cotton_area', 'Corn_area',\n",
        "       'SORGHUM_ACRES', 'precipitation_cm']]\n",
        "y = df1[['CO2','N2O']]"
      ],
      "metadata": {
        "id": "n6MTDxNoju8F"
      },
      "execution_count": 37,
      "outputs": []
    },
    {
      "cell_type": "code",
      "source": [
        "X_train,X_test, y_train, y_test = train_test_split(X,y,test_size = 0.2, random_state = 42)"
      ],
      "metadata": {
        "id": "CZG1B-QaqXLD"
      },
      "execution_count": 38,
      "outputs": []
    },
    {
      "cell_type": "code",
      "source": [
        "X_train.shape, X_test.shape, y_train.shape, y_test.shape"
      ],
      "metadata": {
        "colab": {
          "base_uri": "https://localhost:8080/"
        },
        "id": "_EzCsE1xpsbm",
        "outputId": "903a42b1-8423-4c41-a453-3d37cf1277b5"
      },
      "execution_count": 39,
      "outputs": [
        {
          "output_type": "execute_result",
          "data": {
            "text/plain": [
              "((2164, 6), (541, 6), (2164, 2), (541, 2))"
            ]
          },
          "metadata": {},
          "execution_count": 39
        }
      ]
    },
    {
      "cell_type": "markdown",
      "source": [
        "# creating the Evaluation function to give all the metrics after the model training"
      ],
      "metadata": {
        "id": "ex9OHpfF0Vo6"
      }
    },
    {
      "cell_type": "code",
      "source": [
        "def evaluate_model(true, predicted):\n",
        "  mae = mean_absolute_error(true, predicted)\n",
        "  mse = mean_squared_error(true, predicted)\n",
        "  rmse = np.sqrt(mean_squared_error(true, predicted))\n",
        "  r2_square = r2_score(true, predicted)\n",
        "  return mae, mse, r2_square"
      ],
      "metadata": {
        "id": "vxKRhT860LgE"
      },
      "execution_count": 42,
      "outputs": []
    },
    {
      "cell_type": "code",
      "source": [
        "models = {\n",
        "    \"linear Regression\": LinearRegression(),\n",
        "    \"Lasso\": Lasso(),\n",
        "    \"Ridge\": Ridge(),\n",
        "    \"K-neighbors-regressor\":KNeighborsRegressor(),\n",
        "    \"Decision-tree\":DecisionTreeRegressor(),\n",
        "    \"Random Forest Regressor\":RandomForestRegressor(),\n",
        "    \"XGBRegressor\":XGBRegressor(),\n",
        "    #\"Adaboost Regressor\": AdaBoostRegressor()\n",
        "}\n",
        "\n",
        "model_list = []\n",
        "r2_list = []\n",
        "\n",
        "for i in range(len(list(models))):\n",
        "  model = list(models.values())[i]\n",
        "  model.fit(X_train,y_train) # train the model\n",
        "\n",
        "  '''\n",
        "  Predictions\n",
        "  '''\n",
        "\n",
        "  y_train_pred = model.predict(X_train)\n",
        "  y_test_pred = model.predict(X_test)\n",
        "\n",
        "  '''\n",
        "  Evaluate the train and test dataset\n",
        "  '''\n",
        "\n",
        "  model_train_mae, model_train_rmse, model_train_r2 = evaluate_model(y_train, y_train_pred)\n",
        "  model_test_mae, model_test_rmse, model_test_r2 = evaluate_model(y_test, y_test_pred)\n",
        "\n",
        "\n",
        "  print(list(models.keys())[i])\n",
        "  model_list.append(list(models.keys())[i])\n",
        "\n",
        "  print('Model performance for training set')\n",
        "  print(f'- RMSE: {model_train_rmse}')\n",
        "  print(f'- MAE: {model_train_mae}')\n",
        "  print(f'- R2Score: {model_train_r2}')\n",
        "\n",
        "  print('--------------------------------')\n",
        "\n",
        "  print('Model performance for test set')\n",
        "  print(f'- RMSE: {model_test_rmse}')\n",
        "  print(f'- MAE: {model_test_mae}')\n",
        "  print(f'- R2Score: {model_test_r2}')\n",
        "\n",
        "  r2_list.append(model_test_r2)\n",
        "\n",
        "  print('*'*35)\n",
        "  print('\\n')\n",
        "\n",
        "\n"
      ],
      "metadata": {
        "id": "dC4xW2fk1H1L",
        "outputId": "a4bc69da-c5be-497c-e80e-2835a5f43797",
        "colab": {
          "base_uri": "https://localhost:8080/"
        }
      },
      "execution_count": 43,
      "outputs": [
        {
          "output_type": "stream",
          "name": "stdout",
          "text": [
            "linear Regression\n",
            "Model performance for training set\n",
            "- RMSE: 102972313235.09322\n",
            "- MAE: 151421.97870273254\n",
            "- R2Score: 0.9181863101922073\n",
            "--------------------------------\n",
            "Model performance for test set\n",
            "- RMSE: 114069525726.4011\n",
            "- MAE: 154636.6690363745\n",
            "- R2Score: 0.892506257268632\n",
            "***********************************\n",
            "\n",
            "\n",
            "Lasso\n",
            "Model performance for training set\n",
            "- RMSE: 102972313235.19858\n",
            "- MAE: 151421.95811448162\n",
            "- R2Score: 0.9181863088670048\n",
            "--------------------------------\n",
            "Model performance for test set\n",
            "- RMSE: 114069520985.12543\n",
            "- MAE: 154636.650636563\n",
            "- R2Score: 0.892506165160887\n",
            "***********************************\n",
            "\n",
            "\n",
            "Ridge\n",
            "Model performance for training set\n",
            "- RMSE: 102972313235.29956\n",
            "- MAE: 151421.9856183843\n",
            "- R2Score: 0.9181863101920431\n",
            "--------------------------------\n",
            "Model performance for test set\n",
            "- RMSE: 114069521743.76427\n",
            "- MAE: 154636.66629606622\n",
            "- R2Score: 0.8925062609586735\n",
            "***********************************\n",
            "\n",
            "\n",
            "K-neighbors-regressor\n",
            "Model performance for training set\n",
            "- RMSE: 2720860849.2148533\n",
            "- MAE: 4582.990053625863\n",
            "- R2Score: 0.9961847638057999\n",
            "--------------------------------\n",
            "Model performance for test set\n",
            "- RMSE: 3384392377.4334745\n",
            "- MAE: 5996.010345348712\n",
            "- R2Score: 0.992746356010026\n",
            "***********************************\n",
            "\n",
            "\n",
            "Decision-tree\n",
            "Model performance for training set\n",
            "- RMSE: 5.468074666504241e-34\n",
            "- MAE: 6.156504757625637e-19\n",
            "- R2Score: 1.0\n",
            "--------------------------------\n",
            "Model performance for test set\n",
            "- RMSE: 2617283585.2215333\n",
            "- MAE: 7178.630265611939\n",
            "- R2Score: 0.9718615597578273\n",
            "***********************************\n",
            "\n",
            "\n",
            "Random Forest Regressor\n",
            "Model performance for training set\n",
            "- RMSE: 461911521.3123602\n",
            "- MAE: 2061.208275496402\n",
            "- R2Score: 0.9985911895318236\n",
            "--------------------------------\n",
            "Model performance for test set\n",
            "- RMSE: 2136979008.234221\n",
            "- MAE: 5387.583265079457\n",
            "- R2Score: 0.9852341140701337\n",
            "***********************************\n",
            "\n",
            "\n",
            "XGBRegressor\n",
            "Model performance for training set\n",
            "- RMSE: 2117223.5383590986\n",
            "- MAE: 549.2574379387858\n",
            "- R2Score: 0.9999866104456019\n",
            "--------------------------------\n",
            "Model performance for test set\n",
            "- RMSE: 317676881.03938186\n",
            "- MAE: 3365.622160088257\n",
            "- R2Score: 0.9969561682682866\n",
            "***********************************\n",
            "\n",
            "\n"
          ]
        }
      ]
    },
    {
      "cell_type": "code",
      "source": [],
      "metadata": {
        "id": "tCzGnajXl1wD"
      },
      "execution_count": 43,
      "outputs": []
    },
    {
      "cell_type": "code",
      "source": [],
      "metadata": {
        "id": "7BDnPRCyi0RQ"
      },
      "execution_count": 43,
      "outputs": []
    },
    {
      "cell_type": "code",
      "source": [],
      "metadata": {
        "id": "PppHaxKEl5ns"
      },
      "execution_count": 43,
      "outputs": []
    },
    {
      "cell_type": "code",
      "source": [],
      "metadata": {
        "id": "U0fuy0-6mfPu"
      },
      "execution_count": 43,
      "outputs": []
    },
    {
      "cell_type": "code",
      "source": [],
      "metadata": {
        "id": "oEXWDwRPl9Ld"
      },
      "execution_count": 43,
      "outputs": []
    },
    {
      "cell_type": "code",
      "source": [],
      "metadata": {
        "id": "Z6OXcr_1mh-q"
      },
      "execution_count": 43,
      "outputs": []
    },
    {
      "cell_type": "code",
      "source": [
        "\n"
      ],
      "metadata": {
        "id": "8VXTIt6cmkYu"
      },
      "execution_count": 24,
      "outputs": []
    },
    {
      "cell_type": "code",
      "source": [],
      "metadata": {
        "id": "LqzlHzu5mn8d"
      },
      "execution_count": 24,
      "outputs": []
    },
    {
      "cell_type": "code",
      "source": [],
      "metadata": {
        "id": "Y_T9_luKrCuy"
      },
      "execution_count": 43,
      "outputs": []
    },
    {
      "cell_type": "code",
      "source": [],
      "metadata": {
        "id": "r7Wnnv2Ap-FL"
      },
      "execution_count": 43,
      "outputs": []
    },
    {
      "cell_type": "code",
      "source": [],
      "metadata": {
        "id": "72G6DXsnmoUA"
      },
      "execution_count": 43,
      "outputs": []
    },
    {
      "cell_type": "code",
      "source": [],
      "metadata": {
        "id": "9OpKh3dJnOZm"
      },
      "execution_count": 43,
      "outputs": []
    },
    {
      "cell_type": "code",
      "source": [],
      "metadata": {
        "id": "-cNNqK3LnTOT"
      },
      "execution_count": 43,
      "outputs": []
    },
    {
      "cell_type": "code",
      "source": [],
      "metadata": {
        "id": "-ATL8aMdn1Ko"
      },
      "execution_count": 43,
      "outputs": []
    },
    {
      "cell_type": "code",
      "source": [],
      "metadata": {
        "id": "ZSDJv80bpF2k"
      },
      "execution_count": 43,
      "outputs": []
    }
  ]
}